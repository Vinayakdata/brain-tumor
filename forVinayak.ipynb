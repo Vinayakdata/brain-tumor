{
 "cells": [
  {
   "cell_type": "code",
   "execution_count": 7,
   "metadata": {},
   "outputs": [
    {
     "name": "stderr",
     "output_type": "stream",
     "text": [
      "c:\\users\\kiit\\appdata\\local\\programs\\python\\python36\\lib\\site-packages\\ipykernel_launcher.py:15: UserWarning: Update your `Conv2D` call to the Keras 2 API: `Conv2D(64, (9, 9), input_shape=(64, 64, 3..., activation=\"relu\")`\n",
      "  from ipykernel import kernelapp as app\n",
      "c:\\users\\kiit\\appdata\\local\\programs\\python\\python36\\lib\\site-packages\\ipykernel_launcher.py:18: UserWarning: Update your `Conv2D` call to the Keras 2 API: `Conv2D(32, (6, 6), input_shape=(64, 64, 3..., activation=\"relu\")`\n",
      "c:\\users\\kiit\\appdata\\local\\programs\\python\\python36\\lib\\site-packages\\ipykernel_launcher.py:21: UserWarning: Update your `Conv2D` call to the Keras 2 API: `Conv2D(32, (3, 3), input_shape=(64, 64, 3..., activation=\"relu\")`\n",
      "c:\\users\\kiit\\appdata\\local\\programs\\python\\python36\\lib\\site-packages\\ipykernel_launcher.py:24: UserWarning: Update your `Conv2D` call to the Keras 2 API: `Conv2D(16, (3, 3), input_shape=(64, 64, 3..., activation=\"relu\")`\n"
     ]
    }
   ],
   "source": [
    "#13 model\n",
    "import keras\n",
    "from keras.models import Sequential\n",
    "from keras.layers import Dense \n",
    "\n",
    "\n",
    "from keras.models import Sequential\n",
    "from keras.layers import Convolution2D \n",
    "from keras.layers import MaxPooling2D\n",
    "from keras.layers import Flatten\n",
    "from keras.layers import Dense\n",
    "\n",
    "classifier = Sequential()\n",
    "\n",
    "classifier.add(Convolution2D(64, 9, 9, input_shape = (64, 64, 3), activation='relu'))\n",
    "classifier.add(MaxPooling2D(pool_size = (2, 2)))\n",
    "\n",
    "classifier.add(Convolution2D(32, 6, 6, input_shape = (64, 64, 3), activation='relu'))\n",
    "classifier.add(MaxPooling2D(pool_size = (2, 2)))\n",
    "\n",
    "classifier.add(Convolution2D(32, 3, 3, input_shape = (64, 64, 3), activation='relu'))\n",
    "classifier.add(MaxPooling2D(pool_size = (2, 2)))\n",
    "\n",
    "classifier.add(Convolution2D(16, 3, 3, input_shape = (64, 64, 3), activation='relu'))\n",
    "classifier.add(MaxPooling2D(pool_size = (2, 2)))\n",
    "\n",
    "\n",
    "\n",
    "classifier.add(Flatten())\n",
    "classifier.add(Dense(units = 128, activation = 'relu' ))\n",
    "classifier.add(Dense(units = 2, activation = 'softmax'))\n",
    "\n",
    "classifier.compile(optimizer = 'adam' , loss = 'categorical_crossentropy' , metrics = ['accuracy'])"
   ]
  },
  {
   "cell_type": "code",
   "execution_count": 8,
   "metadata": {},
   "outputs": [
    {
     "name": "stdout",
     "output_type": "stream",
     "text": [
      "Model: \"sequential_2\"\n",
      "_________________________________________________________________\n",
      "Layer (type)                 Output Shape              Param #   \n",
      "=================================================================\n",
      "conv2d_5 (Conv2D)            (None, 56, 56, 64)        15616     \n",
      "_________________________________________________________________\n",
      "max_pooling2d_5 (MaxPooling2 (None, 28, 28, 64)        0         \n",
      "_________________________________________________________________\n",
      "conv2d_6 (Conv2D)            (None, 23, 23, 32)        73760     \n",
      "_________________________________________________________________\n",
      "max_pooling2d_6 (MaxPooling2 (None, 11, 11, 32)        0         \n",
      "_________________________________________________________________\n",
      "conv2d_7 (Conv2D)            (None, 9, 9, 32)          9248      \n",
      "_________________________________________________________________\n",
      "max_pooling2d_7 (MaxPooling2 (None, 4, 4, 32)          0         \n",
      "_________________________________________________________________\n",
      "conv2d_8 (Conv2D)            (None, 2, 2, 16)          4624      \n",
      "_________________________________________________________________\n",
      "max_pooling2d_8 (MaxPooling2 (None, 1, 1, 16)          0         \n",
      "_________________________________________________________________\n",
      "flatten_2 (Flatten)          (None, 16)                0         \n",
      "_________________________________________________________________\n",
      "dense_3 (Dense)              (None, 128)               2176      \n",
      "_________________________________________________________________\n",
      "dense_4 (Dense)              (None, 2)                 258       \n",
      "=================================================================\n",
      "Total params: 105,682\n",
      "Trainable params: 105,682\n",
      "Non-trainable params: 0\n",
      "_________________________________________________________________\n"
     ]
    }
   ],
   "source": [
    "classifier.summary()"
   ]
  },
  {
   "cell_type": "code",
   "execution_count": 9,
   "metadata": {},
   "outputs": [],
   "source": [
    "classifier.compile(optimizer = 'adam', loss = 'categorical_crossentropy', metrics = ['accuracy'])\n",
    "from keras.preprocessing.image import ImageDataGenerator "
   ]
  },
  {
   "cell_type": "code",
   "execution_count": 10,
   "metadata": {},
   "outputs": [
    {
     "name": "stdout",
     "output_type": "stream",
     "text": [
      "Found 202 images belonging to 2 classes.\n",
      "Found 51 images belonging to 2 classes.\n",
      "Epoch 1/10\n",
      "20/20 [==============================] - 22s 1s/step - loss: 0.6618 - accuracy: 0.6150 - val_loss: 0.6850 - val_accuracy: 0.6076\n",
      "Epoch 2/10\n",
      "20/20 [==============================] - 21s 1s/step - loss: 0.6352 - accuracy: 0.6185 - val_loss: 0.6465 - val_accuracy: 0.6081\n",
      "Epoch 3/10\n",
      "20/20 [==============================] - 21s 1s/step - loss: 0.6431 - accuracy: 0.6045 - val_loss: 0.6232 - val_accuracy: 0.6086\n",
      "Epoch 4/10\n",
      "20/20 [==============================] - 21s 1s/step - loss: 0.6334 - accuracy: 0.6254 - val_loss: 0.6615 - val_accuracy: 0.6469\n",
      "Epoch 5/10\n",
      "20/20 [==============================] - 21s 1s/step - loss: 0.6511 - accuracy: 0.6326 - val_loss: 0.6174 - val_accuracy: 0.6081\n",
      "Epoch 6/10\n",
      "20/20 [==============================] - 21s 1s/step - loss: 0.6089 - accuracy: 0.6202 - val_loss: 0.5792 - val_accuracy: 0.8028\n",
      "Epoch 7/10\n",
      "20/20 [==============================] - 21s 1s/step - loss: 0.6113 - accuracy: 0.6603 - val_loss: 0.5567 - val_accuracy: 0.6081\n",
      "Epoch 8/10\n",
      "20/20 [==============================] - 21s 1s/step - loss: 0.5805 - accuracy: 0.6544 - val_loss: 0.4024 - val_accuracy: 0.6076\n",
      "Epoch 9/10\n",
      "20/20 [==============================] - 21s 1s/step - loss: 0.5493 - accuracy: 0.7138 - val_loss: 0.5871 - val_accuracy: 0.6076\n",
      "Epoch 10/10\n",
      "20/20 [==============================] - 21s 1s/step - loss: 0.5138 - accuracy: 0.7300 - val_loss: 0.4159 - val_accuracy: 0.9208\n"
     ]
    },
    {
     "data": {
      "text/plain": [
       "<keras.callbacks.callbacks.History at 0x27cc17de358>"
      ]
     },
     "execution_count": 10,
     "metadata": {},
     "output_type": "execute_result"
    }
   ],
   "source": [
    "train_datagen = ImageDataGenerator(rescale = 1./255, shear_range = .2, zoom_range = .2, horizontal_flip = True)\n",
    "test_datagen = ImageDataGenerator(rescale = 1./255)\n",
    "\n",
    "training_set = train_datagen.flow_from_directory('dataset/training_set', target_size = (64, 64), batch_size = 32, class_mode = 'categorical')\n",
    "test_set = test_datagen.flow_from_directory('dataset/test_set', target_size = (64, 64), batch_size = 32, class_mode = 'categorical')\n",
    "\n",
    "classifier.fit_generator(training_set, steps_per_epoch = int(20+31/32), epochs = 10, validation_data = test_set, validation_steps = int(78+124/32))\n"
   ]
  },
  {
   "cell_type": "code",
   "execution_count": 19,
   "metadata": {},
   "outputs": [],
   "source": [
    "import glob\n",
    "normal_cases_dir = r'dataset/test_set/no'\n",
    "idc_cases_dir = r'dataset/test_set/yes'\n",
    "\n",
    "normal_cases = glob.glob(normal_cases_dir+'/*.*') #change to .png or .jpg if images are in that format\n",
    "idc_cases = glob.glob(idc_cases_dir+'/*.*')\n",
    "'''normal_cases1 = glob.glob(normal_cases_dir+'/*.JPG')\n",
    "idc_cases1 = glob.glob(idc_cases_dir+'/*.JPG')\n",
    "normal_cases2 = glob.glob(normal_cases_dir+'/*.jpeg')\n",
    "idc_cases2 = glob.glob(idc_cases_dir+'/*.jpeg')\n",
    "\n",
    "\n",
    "normal_cases.extend(normal_cases1)\n",
    "idc_cases.extend(idc_cases1)\n",
    "\n",
    "normal_cases.extend(normal_cases2)\n",
    "idc_cases.extend(idc_cases2)'''\n",
    "\n",
    "testing_data = []\n",
    "testing_labels = []\n",
    "import cv2\n",
    "import keras\n",
    "\n",
    "for img in normal_cases:\n",
    "    img = cv2.imread(str(img))\n",
    "    img = cv2.resize(img, (64,64)) #HERE, CHANGE (50,50) TO WHATEVER IMAGE INPUT SIZE YOU HAVE TAKEN\n",
    "    if img.shape[2] ==1:\n",
    "        img = np.dstack([img, img, img])\n",
    "    else:\n",
    "        img = cv2.cvtColor(img, cv2.COLOR_BGR2RGB)\n",
    "    img = img.astype(np.float32)/255.\n",
    "    label = keras.utils.to_categorical(0, num_classes=2)\n",
    "    testing_data.append(img)\n",
    "    testing_labels.append(label)\n",
    "                      \n",
    "for img in idc_cases:\n",
    "    img = cv2.imread(str(img))\n",
    "    img = cv2.resize(img, (64,64)) #CHANGE HERE AGAIN\n",
    "    if img.shape[2] ==1:\n",
    "        img = np.dstack([img, img, img])\n",
    "    else:\n",
    "        img = cv2.cvtColor(img, cv2.COLOR_BGR2RGB)\n",
    "    img = img.astype(np.float32)/255.\n",
    "    label = keras.utils.to_categorical(1, num_classes=2)\n",
    "    testing_data.append(img)\n",
    "    testing_labels.append(label)"
   ]
  },
  {
   "cell_type": "code",
   "execution_count": 20,
   "metadata": {},
   "outputs": [
    {
     "name": "stdout",
     "output_type": "stream",
     "text": [
      "Total number of test examples:  (51, 64, 64, 3)\n",
      "Total number of labels: (51, 2)\n"
     ]
    }
   ],
   "source": [
    "testing_data = np.array(testing_data)\n",
    "testing_labels = np.array(testing_labels)\n",
    "\n",
    "print(\"Total number of test examples: \", testing_data.shape)\n",
    "print(\"Total number of labels:\", testing_labels.shape)"
   ]
  },
  {
   "cell_type": "code",
   "execution_count": 21,
   "metadata": {},
   "outputs": [
    {
     "name": "stdout",
     "output_type": "stream",
     "text": [
      "51/51 [==============================] - 0s 3ms/step\n",
      "Loss on test set:  0.4326406045287263\n",
      "Accuracy on test set:  0.9215686321258545\n",
      "(51,)\n",
      "(51,)\n"
     ]
    }
   ],
   "source": [
    "test_loss, test_score = classifier.evaluate(testing_data, testing_labels, batch_size=32)\n",
    "print(\"Loss on test set: \", test_loss)\n",
    "print(\"Accuracy on test set: \", test_score)\n",
    "\n",
    "\n",
    "preds = classifier.predict(testing_data, batch_size = 32)\n",
    "preds = np.argmax(preds, axis=-1)\n",
    "\n",
    "orig_test_labels = np.argmax(testing_labels, axis=-1)\n",
    "print(orig_test_labels.shape)\n",
    "print(preds.shape)\n",
    "\n",
    "\n",
    "from sklearn.metrics import confusion_matrix\n",
    "cm = confusion_matrix(orig_test_labels, preds)"
   ]
  },
  {
   "cell_type": "code",
   "execution_count": 22,
   "metadata": {},
   "outputs": [
    {
     "data": {
      "text/plain": [
       "array([[19,  1],\n",
       "       [ 3, 28]], dtype=int64)"
      ]
     },
     "execution_count": 22,
     "metadata": {},
     "output_type": "execute_result"
    }
   ],
   "source": [
    "cm"
   ]
  },
  {
   "cell_type": "code",
   "execution_count": 25,
   "metadata": {},
   "outputs": [
    {
     "data": {
      "image/png": "[encoded data removed]",
      "text/plain": [
       "<Figure size 432x288 with 2 Axes>"
      ]
     },
     "metadata": {},
     "output_type": "display_data"
    }
   ],
   "source": [
    "import seaborn as sn\n",
    "import matplotlib.pyplot as plt\n",
    "sn.set(font_scale=1.4) # for label size\n",
    "sn.heatmap(cm, annot=True, annot_kws={\"size\": 16})\n",
    "plt.show()"
   ]
  },
  {
   "cell_type": "code",
   "execution_count": null,
   "metadata": {},
   "outputs": [],
   "source": []
  }
 ],
 "metadata": {
  "kernelspec": {
   "display_name": "Python 3",
   "language": "python",
   "name": "python3"
  },
  "language_info": {
   "codemirror_mode": {
    "name": "ipython",
    "version": 3
   },
   "file_extension": ".py",
   "mimetype": "text/x-python",
   "name": "python",
   "nbconvert_exporter": "python",
   "pygments_lexer": "ipython3",
   "version": "3.8.3"
  },
  "varInspector": {
   "cols": {
    "lenName": 16,
    "lenType": 16,
    "lenVar": 40
   },
   "kernels_config": {
    "python": {
     "delete_cmd_postfix": "",
     "delete_cmd_prefix": "del ",
     "library": "var_list.py",
     "varRefreshCmd": "print(var_dic_list())"
    },
    "r": {
     "delete_cmd_postfix": ") ",
     "delete_cmd_prefix": "rm(",
     "library": "var_list.r",
     "varRefreshCmd": "cat(var_dic_list()) "
    }
   },
   "types_to_exclude": [
    "module",
    "function",
    "builtin_function_or_method",
    "instance",
    "_Feature"
   ],
   "window_display": false
  }
 },
 "nbformat": 4,
 "nbformat_minor": 2
}
